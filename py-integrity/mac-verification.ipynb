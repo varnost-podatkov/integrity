{
 "cells": [
  {
   "cell_type": "code",
   "execution_count": 1,
   "id": "2be1b7ba-858c-448c-925e-0745a62c13da",
   "metadata": {
    "tags": []
   },
   "outputs": [],
   "source": [
    "from cryptography.hazmat.primitives import cmac, constant_time, hashes, hmac\n",
    "from cryptography.hazmat.primitives.ciphers import algorithms\n",
    "\n",
    "import os"
   ]
  },
  {
   "cell_type": "code",
   "execution_count": 2,
   "id": "10a257bf-d20f-441b-816f-c074eb3135b0",
   "metadata": {
    "tags": []
   },
   "outputs": [],
   "source": [
    "def cmac_sign(key, msg):\n",
    "    c = cmac.CMAC(algorithms.AES(key))\n",
    "    c.update(msg)\n",
    "    return c.finalize()"
   ]
  },
  {
   "cell_type": "code",
   "execution_count": 3,
   "id": "7054f241-8472-463f-92d9-5c247cf29d27",
   "metadata": {
    "tags": []
   },
   "outputs": [],
   "source": [
    "def test_cmac_sign():\n",
    "    key = bytes.fromhex(\"e3e62dde91fc699fc6195b9387b97b51\")\n",
    "    msg = b\"Hello World!\"\n",
    "    tag = bytes.fromhex(\"cebba0274a6e91a2918e801765b5c692\")\n",
    "    assert cmac_sign(key, msg) == tag\n",
    "    \n",
    "test_cmac_sign()"
   ]
  },
  {
   "cell_type": "code",
   "execution_count": 4,
   "id": "4d7deec6-a579-4baa-af7b-ba6cd5c7f766",
   "metadata": {
    "tags": []
   },
   "outputs": [],
   "source": [
    "def cmac_verify(key, msg, tag):\n",
    "    try:\n",
    "        c = cmac.CMAC(algorithms.AES(key))\n",
    "        c.update(msg)\n",
    "        c.verify(tag)\n",
    "        return True\n",
    "    except:\n",
    "        return False    "
   ]
  },
  {
   "cell_type": "code",
   "execution_count": 5,
   "id": "d8e308e9-cccb-4e43-b15d-11c7e5c47bf1",
   "metadata": {
    "tags": []
   },
   "outputs": [],
   "source": [
    "def test_cmac_verify():\n",
    "    key = bytes.fromhex(\"e3e62dde91fc699fc6195b9387b97b51\")\n",
    "    msg = b\"Hello World!\"\n",
    "    tag = bytes.fromhex(\"cebba0274a6e91a2918e801765b5c692\")\n",
    "    \n",
    "    assert cmac_verify(key, msg, tag)\n",
    "    assert not cmac_verify(key, msg, bytes.fromhex(\"cebba0274a6e91a2918e801765b5c690\"))\n",
    "    assert not cmac_verify(bytes.fromhex(\"e3e62dde91fc699fc6195b9387b97b50\"), msg, tag)\n",
    "    assert not cmac_verify(key, msg + b\"a\", tag)\n",
    "    \n",
    "test_cmac_verify()"
   ]
  },
  {
   "cell_type": "markdown",
   "id": "d280f779-4b5d-4ecf-9f02-19aaa8b55219",
   "metadata": {},
   "source": [
    "## Naloga 2"
   ]
  },
  {
   "cell_type": "code",
   "execution_count": 6,
   "id": "c27cbb05-ca68-44ee-9a29-69caa7eadf77",
   "metadata": {
    "tags": []
   },
   "outputs": [],
   "source": [
    "def hmac_sign(key, msg):\n",
    "    h = hmac.HMAC(key, hashes.SHA256())\n",
    "    h.update(msg)\n",
    "    return h.finalize()"
   ]
  },
  {
   "cell_type": "code",
   "execution_count": 7,
   "id": "05e4364f-1182-4b32-8bd5-8c37f029e7b7",
   "metadata": {
    "tags": []
   },
   "outputs": [],
   "source": [
    "def test_hmac_sign():\n",
    "    key = bytes.fromhex(\"9008c42e77571b6615ad7058dc846b44\")\n",
    "    msg = b\"Hello World!\"\n",
    "    tag = bytes.fromhex(\"8958bcd856b90d35ec4fe83e5cfb01224ceaf0040787f0535d7c97b383765d4f\")\n",
    "    \n",
    "    assert hmac_sign(key, msg) == tag\n",
    "    \n",
    "test_hmac_sign()    "
   ]
  },
  {
   "cell_type": "code",
   "execution_count": 8,
   "id": "84826d5f-3d28-44d8-961a-702fa9585f5a",
   "metadata": {
    "tags": []
   },
   "outputs": [],
   "source": [
    "def hmac_verify(key, msg, tag):\n",
    "    try:\n",
    "        h = hmac.HMAC(key, hashes.SHA256())\n",
    "        h.update(msg)\n",
    "        h.verify(tag)\n",
    "        return True\n",
    "    except:\n",
    "        return False    "
   ]
  },
  {
   "cell_type": "raw",
   "id": "0c9206a9-03bb-4bc7-8ecf-834fb97327b4",
   "metadata": {
    "tags": []
   },
   "source": [
    "key = os.urandom(16)\n",
    "print(f\"key: '{key.hex()}'\")\n",
    "print(f\"hmac: '{hmac_sign(key, b'Hello World!').hex()}'\")"
   ]
  },
  {
   "cell_type": "code",
   "execution_count": 9,
   "id": "2bb8397f-0614-43ea-9816-76977d7fb353",
   "metadata": {
    "tags": []
   },
   "outputs": [],
   "source": [
    "def test_hmac_verify():\n",
    "    key = bytes.fromhex(\"ac77bc30018022de3ecee0c3226c7c7d\")\n",
    "    msg = b\"Hello World!\"\n",
    "    tag = bytes.fromhex(\"a2276626e56ae4138f865f0998a4abe9940dbf564a8882d85af951e299811fbb\")\n",
    "    \n",
    "    assert hmac_verify(key, msg, tag)\n",
    "    assert not hmac_verify(key, msg, bytes.fromhex(\"a2276626e56ae4138f865f0998a4abe9940dbf564a8882d85af951e299811fb0\"))\n",
    "    assert not hmac_verify(bytes.fromhex(\"ac77bc30018022de3ecee0c3226c7c70\"), msg, tag)\n",
    "    assert not hmac_verify(key, msg + b\"a\", tag)\n",
    "    \n",
    "test_hmac_verify()"
   ]
  },
  {
   "cell_type": "markdown",
   "id": "b25edc19-d26b-44c7-9873-face4b6a4aa3",
   "metadata": {},
   "source": [
    "## Naloga 3\n",
    "\n",
    "V Javi:\n",
    "- Z vam ljubim urejevalnikom besedil, ali še boljše IDE, odprite projekt **java-integrity**; [sam uporabljam Intellij IDEAD Community Edition in ga priporočam.](https://www.jetbrains.com/idea/download/download-thanks.html) Če uporabljate IDE, potem odprite datoteko `pom.xml`. Tako boste povečali, da se projekt naloži pravilno.\n",
    "-"
   ]
  },
  {
   "cell_type": "markdown",
   "id": "365e8fa5-25cd-4107-bd9f-5d3e181ce68e",
   "metadata": {},
   "source": [
    "## Naloga 4\n",
    "\n",
    "V Javi smo ustvarili sporočilo, iz njega izračunali overitveno kodo sporočila, kjer smo uporabili algoritem MAC HMAC-SHA256.\n",
    "\n",
    "- Ključ smo shranili v datoteko `../data/msg.bin.key`\n",
    "- Konkatenacijo značke in sporočilap pa v `../data/msg.bin`\n",
    "\n",
    "Preberite ključ, značko in sporočilo. Preverite, ali je značka veljavna (tj. prepričajte se, da se sporočilo ni spremenilo), in le v varnem primeru, izpišite sporočilo."
   ]
  },
  {
   "cell_type": "code",
   "execution_count": 15,
   "id": "f3ef77db-e2cc-4661-b615-fd5df3713ed6",
   "metadata": {
    "tags": []
   },
   "outputs": [
    {
     "name": "stdout",
     "output_type": "stream",
     "text": [
      "Sporočilo, ki bo zapisano na disk in zavarovano pred spremembami. bdc9a03c5910c8970d80aeb767200c4d27f3da3417d3dd8b4f65b32aee820b59\n"
     ]
    }
   ],
   "source": [
    "def open_java_msg():\n",
    "    with open(\"../data/msg.bin\", \"rb\") as h:\n",
    "        data = h.read()\n",
    "        tag, msg = data[:32], data[32:]\n",
    "\n",
    "    with open(\"../data/msg.bin.key\", \"rb\") as h:\n",
    "        key = h.read()\n",
    "        \n",
    "    if hmac_verify(key, msg, tag):\n",
    "        print(msg.decode(\"utf8\"), tag.hex())\n",
    "    else:\n",
    "        print(\"Invalid tag\")\n",
    "        \n",
    "open_java_msg()"
   ]
  }
 ],
 "metadata": {
  "kernelspec": {
   "display_name": "Python 3 (ipykernel)",
   "language": "python",
   "name": "python3"
  },
  "language_info": {
   "codemirror_mode": {
    "name": "ipython",
    "version": 3
   },
   "file_extension": ".py",
   "mimetype": "text/x-python",
   "name": "python",
   "nbconvert_exporter": "python",
   "pygments_lexer": "ipython3",
   "version": "3.10.12"
  }
 },
 "nbformat": 4,
 "nbformat_minor": 5
}

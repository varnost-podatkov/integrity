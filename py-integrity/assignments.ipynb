{
 "cells": [
  {
   "cell_type": "markdown",
   "id": "9e002fb3-a58d-421c-957c-9f27e120a6fd",
   "metadata": {},
   "source": [
    "# Celovitost in zgoščevanje\n",
    "\n",
    "Cilji laboratorijske vaje so sledeči:\n",
    "- Spoznati uporabo izbranih mehanizmov zagotavljanja celovitosti v programskih jezikih Python in Java\n",
    "- Spoznati uporabo zgoščevanja v programskih jezikih Python in Java\n",
    "- Spoznati simulator komunikacijskega kanala v Javi\n",
    "- Spoznati mehanizem deduplikacije"
   ]
  },
  {
   "cell_type": "markdown",
   "id": "032fe71e-e0e5-45b1-8c36-e801e361a39d",
   "metadata": {},
   "source": [
    "## Naloga 1\n",
    "Implementirajte metodi `cmac_sign(key, msg)` in `cmac_verify(key, msg, tag)` za CMAC."
   ]
  },
  {
   "cell_type": "code",
   "execution_count": null,
   "id": "2be1b7ba-858c-448c-925e-0745a62c13da",
   "metadata": {
    "tags": []
   },
   "outputs": [],
   "source": [
    "import os"
   ]
  },
  {
   "cell_type": "code",
   "execution_count": null,
   "id": "10a257bf-d20f-441b-816f-c074eb3135b0",
   "metadata": {
    "tags": []
   },
   "outputs": [],
   "source": [
    "def cmac_sign(key, msg):\n",
    "    pass"
   ]
  },
  {
   "cell_type": "code",
   "execution_count": null,
   "id": "7054f241-8472-463f-92d9-5c247cf29d27",
   "metadata": {
    "tags": []
   },
   "outputs": [],
   "source": [
    "def test_cmac_sign():\n",
    "    key = bytes.fromhex(\"e3e62dde91fc699fc6195b9387b97b51\")\n",
    "    msg = b\"Hello World!\"\n",
    "    tag = bytes.fromhex(\"cebba0274a6e91a2918e801765b5c692\")\n",
    "    assert cmac_sign(key, msg) == tag\n",
    "    \n",
    "test_cmac_sign()"
   ]
  },
  {
   "cell_type": "code",
   "execution_count": null,
   "id": "4d7deec6-a579-4baa-af7b-ba6cd5c7f766",
   "metadata": {
    "tags": []
   },
   "outputs": [],
   "source": [
    "def cmac_verify(key, msg, tag):\n",
    "    pass  "
   ]
  },
  {
   "cell_type": "code",
   "execution_count": null,
   "id": "d8e308e9-cccb-4e43-b15d-11c7e5c47bf1",
   "metadata": {
    "tags": []
   },
   "outputs": [],
   "source": [
    "def test_cmac_verify():\n",
    "    key = bytes.fromhex(\"e3e62dde91fc699fc6195b9387b97b51\")\n",
    "    msg = b\"Hello World!\"\n",
    "    tag = bytes.fromhex(\"cebba0274a6e91a2918e801765b5c692\")\n",
    "    \n",
    "    assert cmac_verify(key, msg, tag)\n",
    "    assert not cmac_verify(key, msg, bytes.fromhex(\"cebba0274a6e91a2918e801765b5c690\"))\n",
    "    assert not cmac_verify(bytes.fromhex(\"e3e62dde91fc699fc6195b9387b97b50\"), msg, tag)\n",
    "    assert not cmac_verify(key, msg + b\"a\", tag)\n",
    "    \n",
    "test_cmac_verify()"
   ]
  },
  {
   "cell_type": "markdown",
   "id": "d280f779-4b5d-4ecf-9f02-19aaa8b55219",
   "metadata": {},
   "source": [
    "## Naloga 2\n",
    "\n",
    "Implementirajte metodi `hmac_sign(key, msg)` in `hmac_verify(key, msg, tag)` za HMAC. Kot zgoščevalno funkcijo uporabite SHA-256."
   ]
  },
  {
   "cell_type": "code",
   "execution_count": null,
   "id": "c27cbb05-ca68-44ee-9a29-69caa7eadf77",
   "metadata": {
    "tags": []
   },
   "outputs": [],
   "source": [
    "def hmac_sign(key, msg):\n",
    "    pass"
   ]
  },
  {
   "cell_type": "code",
   "execution_count": null,
   "id": "05e4364f-1182-4b32-8bd5-8c37f029e7b7",
   "metadata": {
    "tags": []
   },
   "outputs": [],
   "source": [
    "def test_hmac_sign():\n",
    "    key = bytes.fromhex(\"9008c42e77571b6615ad7058dc846b44\")\n",
    "    msg = b\"Hello World!\"\n",
    "    tag = bytes.fromhex(\"8958bcd856b90d35ec4fe83e5cfb01224ceaf0040787f0535d7c97b383765d4f\")\n",
    "    \n",
    "    assert hmac_sign(key, msg) == tag\n",
    "    \n",
    "test_hmac_sign()    "
   ]
  },
  {
   "cell_type": "code",
   "execution_count": null,
   "id": "84826d5f-3d28-44d8-961a-702fa9585f5a",
   "metadata": {
    "tags": []
   },
   "outputs": [],
   "source": [
    "def hmac_verify(key, msg, tag):\n",
    "    pass   "
   ]
  },
  {
   "cell_type": "code",
   "execution_count": null,
   "id": "2bb8397f-0614-43ea-9816-76977d7fb353",
   "metadata": {
    "tags": []
   },
   "outputs": [],
   "source": [
    "def test_hmac_verify():\n",
    "    key = bytes.fromhex(\"ac77bc30018022de3ecee0c3226c7c7d\")\n",
    "    msg = b\"Hello World!\"\n",
    "    tag = bytes.fromhex(\"a2276626e56ae4138f865f0998a4abe9940dbf564a8882d85af951e299811fbb\")\n",
    "    \n",
    "    assert hmac_verify(key, msg, tag)\n",
    "    assert not hmac_verify(key, msg, bytes.fromhex(\"a2276626e56ae4138f865f0998a4abe9940dbf564a8882d85af951e299811fb0\"))\n",
    "    assert not hmac_verify(bytes.fromhex(\"ac77bc30018022de3ecee0c3226c7c70\"), msg, tag)\n",
    "    assert not hmac_verify(key, msg + b\"a\", tag)\n",
    "    \n",
    "test_hmac_verify()"
   ]
  },
  {
   "cell_type": "markdown",
   "id": "b25edc19-d26b-44c7-9873-face4b6a4aa3",
   "metadata": {},
   "source": [
    "## Naloga 3\n",
    "\n",
    "Z vam ljubim urejevalnikom besedil, ali še boljše IDE, odprite projekt **java-integrity**; [sam uporabljam Intellij IDEA Community Edition.](https://www.jetbrains.com/idea/download/download-thanks.html) Če uporabljate IDE, potem odprite datoteko `pom.xml`. Tako boste povečali, da se projekt naloži pravilno.\n",
    "\n",
    "### Naloga 3.1\n",
    "\n",
    "Preglejte kodo v primeru `MessageDigestExample.java` in se prepričajte, da razumete njeno delovanje.\n",
    "\n",
    "Spremenite primer, da boste uporabili zgoščevalno funkcijo SHA-3 z izvlečki dolžine 256 bitov.\n",
    "\n",
    "### Naloga 3.2\n",
    "\n",
    "Preglejte kodo v primeru `HMACExample.java` in se prepričajte, da razumete njeno delovanje.\n",
    "\n",
    "Spremenite primer, da boste uporabili zgoščevalno funkcijo SHA-3 z izvlečki dolžine 512 bitov."
   ]
  },
  {
   "cell_type": "markdown",
   "id": "5ea1f942-d9fd-4c66-8a21-b9ff08871817",
   "metadata": {
    "jp-MarkdownHeadingCollapsed": true,
    "tags": []
   },
   "source": [
    "## Naloga 4\n",
    "\n",
    "Poglejte primer komunikacije v datoteki `CommunicationExampleHMAC.java`. \n",
    "\n",
    "To je primer simulacije komunikacijskega kanala med Ano in Borom. Njuno delovanje je podano znotraj metode `task()`. Obe metodi se izvajata sočasno. Tako lahko simuliramo komuniciranje med dejanskimi agenti.\n",
    "\n",
    "Za pošiljanje in sprejemanje sporočil uporabite metodi `void send(byte[])` in `byte[] receive(String)`. \n",
    "\n",
    "Poženite datoteko in poglejte izpis. \n",
    "\n",
    "Nato primer spremenite.\n",
    "- Globalno v metodi `main()` določite simetrični ključ.\n",
    "- V agentu `Ana` instanciirajte algoritem MAC, uporabite simetrični ključ in izračunajte overitveno kodo sporočila tj. značko.\n",
    "- Poleg samega sporočila sedaj `Bor`u pošljite še značko. Značko lahko pošljete kot novo sporočilo tj. da dvakrat pokličete metodo `send(byte[])`: enkrat za pošiljanje značke, drugič za pošiljanje sporočila.\n",
    "- Podobno naj sedaj `Bor` prejme omenjeni sporočili, instanciira algoritem MAC, uporabi simetrični ključ in sam izračuna značko iz prejetega sporočila.\n",
    "- Izračunano značko naj zatem **varno** primerja s prejeto značko.\n",
    "- Če se ne ujemata, se naj program zaključi.\n",
    "- Če se ujemata, Bor izpiše prejeto sporočilo."
   ]
  },
  {
   "cell_type": "markdown",
   "id": "e2dcdfac-bced-4ca4-9f99-7b964167e94a",
   "metadata": {},
   "source": [
    "## Naloga 5\n",
    "\n",
    "Zaščita datotek pri pisanju na disk.\n",
    "\n",
    "Preučite delovanje datotek `WriteToFileHMAC.java` in `ReadFromFileHMAC.java`. \n",
    "\n",
    "### Naloga 5.1: Shranjevanje\n",
    "\n",
    "Datoteka `WriteToFileHMAC.java` je primer, kako podatek zapišemo na disk in na njegov začetek shranimo overitveno kodo sporočila. Bodite pozorni na podrobnosti, kot so:\n",
    "- način shranjevanja datotek v Javi,\n",
    "- način, kako se polja bajtov v Javi konkatenirajo,\n",
    "- način, kako iz instance tipa `Key` preberemo bajte ključa.\n",
    "\n",
    "### Naloga 5.2: Branje\n",
    "\n",
    "Datoteka `ReadFromFileHMAC.java` je primer, kako podatek preberemo z diska in preverimo njegovo celovitost. Dodatno vidimo še, kako lahko iz poljubnih bajtov ustvarimo objekt tipa `Key`. Bodite pozorni na podrobnosti, kot so:\n",
    "- način branja datotek v Javi,\n",
    "- način, kako iz polja bajtov naredimo ključ tipa `Key`,\n",
    "- način, kako polje bajtov razdelimo v dva dela: del, ki predstavlja značko in del, ki predstavlja sporočilo."
   ]
  },
  {
   "cell_type": "markdown",
   "id": "365e8fa5-25cd-4107-bd9f-5d3e181ce68e",
   "metadata": {},
   "source": [
    "## Naloga 6\n",
    "\n",
    "V nalogi 5.2 smo v programskem jeziku Java ustvarili sporočilo, iz njega izračunali overitveno kodo sporočila ter oboje zapisali v datoteko. Uporabili smo algoritem HMAC-SHA256.\n",
    "\n",
    "- Ključ smo shranili v datoteko `../data/msg.bin.key`.\n",
    "- Konkatenacijo značke in sporočila pa v `../data/msg.bin`.\n",
    "\n",
    "V programskem jeziku Python implementirajte funkcijo `open_java_msg()`, ki naj nudi enako funkcionalnost kot naloga 5.2 v Javi: \n",
    "- Preberite ključ, značko in sporočilo.\n",
    "- Preverite, ali je značka veljavna (tj. prepričajte se, da se sporočilo ni spremenilo), in le v tem primeru izpišite sporočilo."
   ]
  },
  {
   "cell_type": "code",
   "execution_count": null,
   "id": "f3ef77db-e2cc-4661-b615-fd5df3713ed6",
   "metadata": {
    "tags": []
   },
   "outputs": [],
   "source": [
    "def open_java_msg():\n",
    "    pass\n",
    "        \n",
    "open_java_msg()"
   ]
  },
  {
   "cell_type": "markdown",
   "id": "7949b0a8-509e-45be-8b1b-1407f6fa9472",
   "metadata": {},
   "source": [
    "## Naloga 7\n",
    "\n",
    "Na zadnje si poglejmo primer uporabe zgoščevanja, ki ni neposredno povezan z varnostjo temveč s prihranki prostora na podatkovnih nosilcih. Postopek je znan pod imenom deduplikacija.\n",
    "\n",
    "Predstavljajte si, da upravjlate z oblačno storitvijo gostovanja datotek kot je npr. Dropbox. Na vaše strežnike veliko odjemalcev nalaga datoteke. Opazite, da je veliko datotek podvojenih. Tako ni nobene potrebe, da če npr. 10 uporabnikov naloži isto datoteko, da na strežniku hranite 10 kopij: dovolj je le ena.\n",
    "\n",
    "Težava je v tem, da vsak uporabnik poimenuje datoteko po svoje. Zato se odločite, da boste za vsako datoteko izračunalni njeno zgoščeno vrednost in vse te zgostitve hranili v slovarju datotek.\n",
    "\n",
    "Posamezen ključ v slovarju predstavljala zgoščeno vrednost, pripadajoča vrednost v slovarju pa naj bo **množica** (angl. set) datotek, katerih vsebina je omenjena zgoščena vrednost. \n",
    "\n",
    "Implementirajte funkcijo `deduplication(filepath)`, ki na podani lokaciji na datotečnem sistemu prebere vse datoteke s končnico `.bin` in pri vsaki izračuna zgoščeno vrednost njene vsebine z zgoščevalno funkcijo SHA-256.\n",
    "\n",
    "Zgoščena vrednost se zapiše v slovar kot ključ, kot pripadajoča vrednost pa naj bo množica imen datotek z enako vsebino.\n",
    "\n",
    "Funkcija naj omenjen slovar vrne.\n",
    "\n",
    "(V nadaljevanju bi omenjen slovar uporabili, da odvečne datoteke pobrišete, hkrati pa si zapomnete, katero vsebino morate pod določenim imenom tudi vrniti.)"
   ]
  },
  {
   "cell_type": "code",
   "execution_count": null,
   "id": "8bd983b9-aa6f-454a-a417-ee8c2ae6e31d",
   "metadata": {
    "tags": []
   },
   "outputs": [],
   "source": [
    "def deduplication(filepath):\n",
    "    pass\n",
    "\n",
    "deduplication(\"../data/\")"
   ]
  },
  {
   "cell_type": "code",
   "execution_count": null,
   "id": "1c6c1813-9082-48a7-8dd5-5eb6a1300c4a",
   "metadata": {
    "tags": []
   },
   "outputs": [],
   "source": [
    "def test_deduplication():\n",
    "    import pickle\n",
    "    \n",
    "    with open(\"../data/assignment7.pkl\", \"rb\") as h:\n",
    "        expected = pickle.load(h)\n",
    "\n",
    "    actual = deduplication(\"../data/\")\n",
    "\n",
    "    assert len(actual) == len(expected)\n",
    "    \n",
    "    for k, v in expected.items():\n",
    "        if v != {'msg.bin'}: # iz primerjanja izpustimo datoteko msg.bin\n",
    "            assert actual[k] == v\n",
    "    \n",
    "test_deduplication()"
   ]
  }
 ],
 "metadata": {
  "kernelspec": {
   "display_name": "Python 3 (ipykernel)",
   "language": "python",
   "name": "python3"
  },
  "language_info": {
   "codemirror_mode": {
    "name": "ipython",
    "version": 3
   },
   "file_extension": ".py",
   "mimetype": "text/x-python",
   "name": "python",
   "nbconvert_exporter": "python",
   "pygments_lexer": "ipython3",
   "version": "3.11.6"
  }
 },
 "nbformat": 4,
 "nbformat_minor": 5
}

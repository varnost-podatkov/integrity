{
 "cells": [
  {
   "cell_type": "markdown",
   "metadata": {},
   "source": [
    "# Bločne šifre\n",
    "\n",
    "Cilji laboratorijske vaje so sledeči:\n",
    "- Spoznati kriptografsko-varne generatorje naključnih vrednosti\n",
    "- Namestiti in se delno spoznati s knjižnico `cryptography`\n",
    "- Uporabiti bločno šifro AES v števčnem načinu z naključnim IV\n",
    "- Spoznati, da simetrične šifre ne dajo nikakršnih zagotovil glede celovitosti in izvesti napad\n",
    "- Uporabiti bločno šifro AES v načinu veriženja tajnopisnih blokov z naključnim IV"
   ]
  },
  {
   "cell_type": "markdown",
   "metadata": {},
   "source": [
    "## Kriptografsko-varni generatorji naključnih vrednosti\n",
    "\n",
    "Vsak generator naključnih vrednosti ni primeren za uproabo v kriptografiji. Tisti, ki so, se imenujejo (kriptografsko-)varni generatorji.\n",
    "\n",
    "Naključne vrednosti bomo v Pythonu ustvarili s pomočjo modula `secrets`. [Povezava na dokumentacijo.](https://docs.python.org/3/library/secrets.html)"
   ]
  },
  {
   "cell_type": "code",
   "execution_count": 1,
   "metadata": {
    "tags": []
   },
   "outputs": [],
   "source": [
    "import secrets"
   ]
  },
  {
   "cell_type": "markdown",
   "metadata": {},
   "source": [
    "Npr. pridobimo 16 bajtov za simetrični ključ ali za vrednost NONCE ali IV."
   ]
  },
  {
   "cell_type": "code",
   "execution_count": 2,
   "metadata": {
    "tags": []
   },
   "outputs": [
    {
     "name": "stdout",
     "output_type": "stream",
     "text": [
      "Key: fe41249b77f8480f774e1daac76361a8\n",
      "IV: 73e0ead1465f647bf71152cf3729286a\n"
     ]
    }
   ],
   "source": [
    "key = secrets.token_bytes(16)\n",
    "iv = secrets.token_bytes(16)\n",
    "\n",
    "print(f\"Key: {key.hex()}\")\n",
    "print(f\"IV: {iv.hex()}\")"
   ]
  },
  {
   "cell_type": "markdown",
   "metadata": {},
   "source": [
    "Alternativno lahko uporabimo tudi funkcijo `os.urandom(int)`, ki vrne naključni niz bajtov želene dolžine."
   ]
  },
  {
   "cell_type": "code",
   "execution_count": 3,
   "metadata": {
    "tags": []
   },
   "outputs": [
    {
     "name": "stdout",
     "output_type": "stream",
     "text": [
      "Key: 4552a7202d04fb997f31c649d5533255\n",
      "IV: ed7e4065148a51a760da4665cc95bcf6\n"
     ]
    }
   ],
   "source": [
    "import os\n",
    "\n",
    "key = os.urandom(16)\n",
    "iv = os.urandom(16)\n",
    "\n",
    "print(f\"Key: {key.hex()}\")\n",
    "print(f\"IV: {iv.hex()}\")"
   ]
  },
  {
   "cell_type": "markdown",
   "metadata": {},
   "source": [
    "Oba načina sta primerna za ustvarjanje kriptografsko-varnih naključnih vrednosti in bi morala delovati v vseh operacijskih sistemih."
   ]
  },
  {
   "cell_type": "markdown",
   "metadata": {},
   "source": [
    "## Knijižnica `cryptography`\n",
    "\n",
    "Pri tem predmetu bomo v Pythonu uproabljali knjižnico kriptografsko knjižnico [`cryptography`; povezava do dokumentacije.](https://cryptography.io/en/latest) Namestimo jo z ukazom preko ukaznega poziva.\n",
    "\n",
    "```\n",
    "$ pip install cryptography\n",
    "```\n",
    "\n",
    "Na računalnikih v učilnici moramo paket namestiti v uporabniško mapo.\n",
    "\n",
    "```\n",
    "$ pip install --user cryptography\n",
    "```\n",
    "\n",
    "V grobem je knjižnica razdeljena v dva dela:\n",
    "\n",
    "- varni (enostavni) del, ki od razvijalca ne terja veliko konfiguracijskih nastavitev in je primeren tudi za kriptografsko manj vešče uporabnike, in\n",
    "- nevarni (hazmat) del, kjer se pričakuje, da veste kaj počnete.\n",
    "\n",
    "Prvi ponuja omejen nabor funkcionalnosti, je lažji za uporabo in v njem težje napravimo traparije. Drugi je veliko bolj zmogljiv, a bolj zahteven za uporabo in v kolikor ne veste, kaj počnete, lahko hitro naredite napako. Te so v kriptografiji drage, saj se običajno razkrijejo, po uspešno izvedenem napadu.\n",
    "\n",
    "Če menite, da bomo uporabljali enostavni del, se motite. Namen predmeta je, da se izučite za pravilno uporabo _nevarnega_. Znanje bo seveda prenosljivo tudi v druge programske jezike in knjižnice, saj je pogojeno z razumevanjem delovanja kriptografskih gradnikov."
   ]
  },
  {
   "cell_type": "markdown",
   "metadata": {},
   "source": [
    "## Naloga 1: Šifriranje z AES-CTR\n",
    "\n",
    "Začnimo z najbolj enostavnim primerom v kodi: šifriranje AES-CTR, kjer je IV naključno izbran. [Povezava do dokumentacije:](https://cryptography.io/en/latest/hazmat/primitives/symmetric-encryption/#) pri kriptografiji je __res nujno, da poznamo dokumentacijo in programiramo po 'občutku'.__\n",
    "\n",
    "Najprej uvozimo zahtevane pakete."
   ]
  },
  {
   "cell_type": "code",
   "execution_count": 4,
   "metadata": {
    "tags": []
   },
   "outputs": [],
   "source": [
    "from cryptography.hazmat.primitives.ciphers import Cipher, algorithms, modes"
   ]
  },
  {
   "cell_type": "markdown",
   "metadata": {},
   "source": [
    "Za šifriranje potrebujemo\n",
    "- sporočilo\n",
    "- ključ\n",
    "- IV\n",
    "- šifro -- algoritem $E$"
   ]
  },
  {
   "cell_type": "code",
   "execution_count": 5,
   "metadata": {
    "tags": []
   },
   "outputs": [],
   "source": [
    "# sporočilo -- ne pozabimo ga postrojiti\n",
    "msg = \"Dober dan!\".encode(\"utf8\")\n",
    "\n",
    "# ključ\n",
    "k = os.urandom(16)\n",
    "\n",
    "# IV\n",
    "iv = os.urandom(16)\n",
    "\n",
    "# algoritem -- to je odvisno od knjižnice: pri knjižnici cryptography\n",
    "# je treba narediti objekt Cipher in v njem specificirati šifrirni algoritem\n",
    "# ter njegov način delovanja\n",
    "cipher = Cipher(\n",
    "    algorithms.AES(k),\n",
    "    modes.CTR(iv))\n",
    "encryptor = cipher.encryptor()"
   ]
  },
  {
   "cell_type": "markdown",
   "metadata": {},
   "source": [
    "Šifriranje je sedaj _enostavno_:\n",
    "\n",
    "1. Vmesnik je zastavljen, da lahko šifriramo večkrat, npr. da nalagamo podatke iz več datotek in nimamo vsega v pomnilniku.\n",
    "2. Ko pokličemo `encryptor.update(pt)`, se šifrira podan čistopis in vrne nastali tajnopis, a ne nujno ves: lahko se zgodi, da zadnji blok čistopisa ni popoln. V tem primeru se preostali del čistopisa še nahaja nešifriran v objektu `encryptor`.\n",
    "3. Šifriranje zaključimo s klicem funkcije `encryptor.finalize()` -- takrat se ves morebitni čistopis v objektu `encryptor` šifrira in vrne.\n",
    "\n",
    "Vse rezultate klicev funkcije `update(pt)` ter na koncu tudi klica `finalize()` dodajamo na seznam bajtov, ki predstavlja končni tajnopis. K temu moramo še dodati IV, sicer ne bo mogoče dešifrirati."
   ]
  },
  {
   "cell_type": "code",
   "execution_count": 6,
   "metadata": {
    "tags": []
   },
   "outputs": [
    {
     "name": "stdout",
     "output_type": "stream",
     "text": [
      "Ključ: 592b92434d020a621ca38db29fa8a8b2\n",
      "IV: dc0db136fd52305eef573cd869f6ce26\n",
      "Dolžina čistopisa 10, čistopis: 446f6265722064616e21\n",
      "Dolžina tajnopisa 10, tajnopis: 0983e8ff258b0beb6f25\n"
     ]
    }
   ],
   "source": [
    "# V našem primeru je celoten čistopis v spremenljivki msg zato potrebujemo le en klic\n",
    "# metode update in zaključek s finalize\n",
    "ct = encryptor.update(msg) + encryptor.finalize()\n",
    "\n",
    "print(f\"Ključ: {k.hex()}\")\n",
    "print(f\"IV: {iv.hex()}\")\n",
    "print(f\"Dolžina čistopisa {len(msg)}, čistopis: {msg.hex()}\")\n",
    "print(f\"Dolžina tajnopisa {len(ct)}, tajnopis: {ct.hex()}\")"
   ]
  },
  {
   "cell_type": "markdown",
   "metadata": {
    "tags": []
   },
   "source": [
    "Dešifriranje je zelo podobno, potrebujemo:\n",
    "\n",
    "- Tajnopis\n",
    "- Ključ\n",
    "- IV, ki je bil uporabljen pri šifriranju\n",
    "- Šifro -- algoritem $D$"
   ]
  },
  {
   "cell_type": "code",
   "execution_count": 7,
   "metadata": {
    "tags": []
   },
   "outputs": [
    {
     "name": "stdout",
     "output_type": "stream",
     "text": [
      "Dešifriran tajnopis: Dober dan!\n"
     ]
    }
   ],
   "source": [
    "# spremenljivke k, iv, ct (od zgoraj) zaporedoma predstavljajo ključ, IV in tajnopis\n",
    "\n",
    "# algoritem dešifriranja\n",
    "decryptor = Cipher(algorithms.AES(k), modes.CTR(iv)).decryptor()\n",
    "pt = decryptor.update(ct) + decryptor.finalize()\n",
    "print(\"Dešifriran tajnopis:\", pt.decode(\"utf8\"))"
   ]
  },
  {
   "cell_type": "markdown",
   "metadata": {},
   "source": [
    "Implementirajte funkcijo `enc_aes_ctr(k, pt, iv=None)` skladno z navodili, podanimi v komentarju."
   ]
  },
  {
   "cell_type": "code",
   "execution_count": 8,
   "metadata": {
    "tags": []
   },
   "outputs": [],
   "source": [
    "def enc_aes_ctr(k, pt, iv=None):\n",
    "    \"\"\"Šifrira čistopis `pt` s ključem `k`. \n",
    "    \n",
    "    Če je `iv` podan (tj. ni nastavljen na None), ga uporabi. Če ni, ustvari novega in uporabi tega.\n",
    "    \n",
    "    Vrne par (IV, tajnopis).\"\"\"\n",
    "    \n",
    "    if iv is None:\n",
    "        iv = secrets.token_bytes(16)\n",
    "    \n",
    "    cipher = Cipher(algorithms.AES(k), modes.CTR(iv))\n",
    "    encryptor = cipher.encryptor()\n",
    "    ct = encryptor.update(pt) + encryptor.finalize()\n",
    "\n",
    "    return cipher.mode.nonce, ct"
   ]
  },
  {
   "cell_type": "markdown",
   "metadata": {},
   "source": [
    "Enotski test."
   ]
  },
  {
   "cell_type": "code",
   "execution_count": 9,
   "metadata": {
    "tags": []
   },
   "outputs": [],
   "source": [
    "def test_enc_aes_ctr():   \n",
    "    key = bytes.fromhex(\"6141fb1142cd0611dd95798fd95352bb\")\n",
    "    iv = bytes.fromhex(\"dedca9742fa8613c6d42eabdea6edba7\")\n",
    "    \n",
    "    msg = \"Hello World!\".encode(\"utf8\")\n",
    "    iv, ct = enc_aes_ctr(key, msg, iv)\n",
    "\n",
    "    assert iv == bytes.fromhex(\"dedca9742fa8613c6d42eabdea6edba7\")\n",
    "    assert ct == bytes.fromhex(\"aa9169004da9689efa74f00d\")\n",
    "\n",
    "test_enc_aes_ctr()"
   ]
  },
  {
   "cell_type": "markdown",
   "metadata": {},
   "source": [
    "Implementirajte funkcijo `dec_aes_ctr(k, pt, iv)` skladno z navodili, podanimi v komentarju."
   ]
  },
  {
   "cell_type": "code",
   "execution_count": 10,
   "metadata": {
    "tags": []
   },
   "outputs": [],
   "source": [
    "def dec_aes_ctr(k, ct, iv):\n",
    "    \"\"\"Dešifrira tajnopis s ključem `k` in podanim `IV`.\n",
    "    \n",
    "    Vrne čistopis.\"\"\"\n",
    "    \n",
    "    decryptor = Cipher(\n",
    "        algorithms.AES(k),\n",
    "        modes.CTR(iv)\n",
    "    ).decryptor()\n",
    "    \n",
    "    return decryptor.update(ct) + decryptor.finalize()"
   ]
  },
  {
   "cell_type": "code",
   "execution_count": 11,
   "metadata": {
    "tags": []
   },
   "outputs": [],
   "source": [
    "def test_dec_aes_ctr():  \n",
    "    key = bytes.fromhex(\"6141fb1142cd0611dd95798fd95352bb\")\n",
    "    iv = bytes.fromhex(\"dedca9742fa8613c6d42eabdea6edba7\")\n",
    "    ct = bytes.fromhex(\"aa9169004da9689efa74f00d\")\n",
    "    \n",
    "    pt = dec_aes_ctr(key, ct, iv)\n",
    "\n",
    "    assert pt == b\"Hello World!\"\n",
    "\n",
    "test_dec_aes_ctr()"
   ]
  },
  {
   "cell_type": "markdown",
   "metadata": {},
   "source": [
    "## Naloga 2: Šifriranje vsebine\n",
    "Uporabite funkciji iz prejšnje naloge in šifrirajte vsebino datoteke `data/ic-za-narodov-blagor.txt`.\n",
    "\n",
    "Vsebino nato shranite v datoteko `data/ic-za-narodov-blagor.txt.enc`. \n",
    "\n",
    "Ne pozabite: Poleg samega tajnopisa, morate v datoteko shraniti še IV. Dokaj standarden način je, da IV in nastali tajnopis konkatenirate in skupaj shranite v datoteko. (Ločevanje je potem preprosto: prvih 16 bajtov v datoteki je IV, preostali pa so dejanski tajnopis.)"
   ]
  },
  {
   "cell_type": "code",
   "execution_count": 14,
   "metadata": {
    "tags": []
   },
   "outputs": [],
   "source": [
    "def read_and_encrypt_file(key, filename):\n",
    "    \"\"\"Prebere vsebino datoteke `filename`, jo šifrira z AES-CTR in ključem key ter zapiše nazaj disk. \n",
    "    \n",
    "    Ime šifrirane datoteke je enako kot ime nešifrirane, le da se ji še doda še končnica `.enc`,\n",
    "    npr `data/ic-za-narodov-blagor.txt` se naj šifrira v  `data/ic-za-narodov-blagor.txt.enc`\n",
    "    \n",
    "    Funkcija je vrača rezultata.\"\"\"\n",
    "    with open(filename, \"rb\") as h:\n",
    "        data = h.read()\n",
    "        \n",
    "    iv, ct = enc_aes_ctr(key, data)\n",
    "    \n",
    "    ct = iv + ct\n",
    "    \n",
    "    with open(filename + \".enc\", \"wb\") as h:\n",
    "        h.write(ct)  "
   ]
  },
  {
   "cell_type": "markdown",
   "metadata": {},
   "source": [
    "Naslednja funkcija naj prebere datoteko `filename` (npr. `data/ic-za-narodov-blagor.txt.enc`), vsebino razčleni v IV in tajnopis, slednjega dešifrira in ga vrne kot rezultat."
   ]
  },
  {
   "cell_type": "code",
   "execution_count": 15,
   "metadata": {},
   "outputs": [],
   "source": [
    "def read_and_decrypt(key, filename):\n",
    "    \"\"\"Prebere vsebino datoteke `filename`, jo dešifrira in vrne čistopis.\"\"\"\n",
    "    \n",
    "    with open(filename, \"rb\") as h:\n",
    "        data = h.read()\n",
    "        \n",
    "    iv, ct = data[:16], data[16:]\n",
    "    return dec_aes_ctr(key, ct, iv)    "
   ]
  },
  {
   "cell_type": "markdown",
   "metadata": {},
   "source": [
    "Spodnji test preveri, ali sta implementaciji zgornjih funkcij pravilni: \n",
    "- najprej šifrira datoteko `data/ic-za-narodov-blagor.txt` s funkcijo `read_and_encrypt_file`,\n",
    "- nato s funkcijo `read_and_decrypt` prebere tajnopis in ga dešifrira,\n",
    "- ter na koncu preveri ali je dešifrirana vsebina pravilna."
   ]
  },
  {
   "cell_type": "code",
   "execution_count": 16,
   "metadata": {
    "tags": []
   },
   "outputs": [],
   "source": [
    "def test_enc_dec_file(key):\n",
    "    # šifriramo in shranimo na disk\n",
    "    read_and_encrypt_file(key, \"data/ic-za-narodov-blagor.txt\")\n",
    "    \n",
    "    # preberemo in dešifriramo \n",
    "    pt = read_and_decrypt(key, \"data/ic-za-narodov-blagor.txt.enc\")\n",
    "    \n",
    "    with open(\"data/ic-za-narodov-blagor.txt\", \"rb\") as h:\n",
    "        data = h.read()\n",
    "        \n",
    "    assert data == pt\n",
    "\n",
    "test_enc_dec_file(os.urandom(16))"
   ]
  },
  {
   "cell_type": "markdown",
   "metadata": {},
   "source": [
    "## Naloga 3: Gnetljivost tajnopisa\n",
    "\n",
    "Ne pozabite: AES-CTR je na koncu tokovna šifra -- četudi je narejen iz psevdonaključne permutacije: ustvarimo (psevdo)naključno podlogo in jo z operacijo XOR združimo s čistopisom.\n",
    "\n",
    "Imamo enako nalogo kot prejšnji teden. Za osvežitev spomina.\n",
    "\n",
    "---\n",
    "\n",
    "Kot napadalec bomo spremenili tajnopis, tako da bo sprememba vidna v čistopisu. Zgodba je sledeča.\n",
    "\n",
    "Ana želi poslati zaupno pošto Boru, vas, ki igrate vlogo napadalca Nandija, pa vsebina sporočila _zares_ zanima.\n",
    "\n",
    "Na srečo vam gre nekaj reči na roko. \n",
    "\n",
    "Prvič, Anin računalnik nima internetne povezave, vaš mobilni telefon pa. Zato ji prijazno ponudite, da zanjo postavite mobilno dostopno točko, preko katere se bo lahko povezala v internet in dostopala do poštnega strežnika. Poštni strežnik bo nato sporočilo dostavil Boru. \n",
    "\n",
    "Ana in Bor uporabljata poseben protokol za pošto: protokol FMTP -- Funny Mail Transfer Protocol.  Gre za preprost besedilno-osnovan protokol: prva vrstica označuje naslov prejemnika, druga naslov pošiljatelja, tretja zadevo, četrta je vedno prazna in na koncu je sporočilo.\n",
    "\n",
    "Vse, kar mora Anin poštni odjemalec storiti, da pošlje sporočilo, je, da strežniku FMTP dostavi besedilni niz, podoben naslednjemu.\n",
    "\n",
    "```txt\n",
    "prejemnik@enadomena.com\n",
    "posiljatelj@drugadomena.com\n",
    "Zadeva sporocila\n",
    "\n",
    "<Samo sporocilo>\n",
    "```\n",
    "\n",
    "Vse morebitne predhodne ali zaključne presledke v vsaki vrstici poštni strežnik ignorira oz. odstrani pred obdelavo. Na primer, e-pošto zgoraj bi lahko napisali kot spodnjo in ne bi bilo nobene razlike.\n",
    "\n",
    "\n",
    "```txt\n",
    "                    prejemnik@enadomena.com               \n",
    "    posiljatelj@drugadomena.com                    \n",
    "Zadeva sporocila\n",
    "\n",
    "<Samo sporocilo>\n",
    "```\n",
    "\n",
    "Tretjič, Ana vam v dobri veri -- kakšna naivnost! -- pove, da pošilja elektronsko sporočilo Boru in da uporablja protokol FMTP. (Torej poznate strukturo sporočila in vsebino prve vrstice čistopisa.)\n",
    "\n",
    "__Tokrat Ana uporablja AES v načinu CTR z naključnim IV.__ Mehanizmov za zagotavljanje celovitosti pravtako ni.\n",
    "\n",
    "Ker nastopate v vlogi **posrednika**, morate sedaj spremeniti sporočilo tako, da strežnik FMTP ne bo poslal pošte Boru, temveč jo bo poslal na naslov, ki ga nadzirate vi, npr. `nandi@obvlada.si`.\n",
    "\n",
    "---\n",
    "\n",
    "(Namig: Če ste nalogo rešili prejšnjikrat, boste tokrat imeli toliko dela, kolikor traja kopiranje rešitve.)"
   ]
  },
  {
   "cell_type": "code",
   "execution_count": 18,
   "metadata": {
    "tags": []
   },
   "outputs": [
    {
     "name": "stdout",
     "output_type": "stream",
     "text": [
      "Ana pošilja šifrirano sporočilo na strežnik\n",
      "Tajnopis (HEX): 5580de627f2631bb7e4365033035d6b605ccc206cd4b4190126ac520d5256f15586148e2ae071e0c4835a1bed5dd666ef4c0569b1e18a19b246c7d99f47d011d5a9b56d92bb29d5000f4\n",
      "IV (HEX): 429c28b9977ac7765289ae72b327101c\n"
     ]
    }
   ],
   "source": [
    "# Ana in Bor si delita skrivni ključ dolžine 16 bajtov\n",
    "ana_bor_psk = os.urandom(16)\n",
    "\n",
    "# Ana pripravi sporočilo\n",
    "email = \"\"\"bor@student.uni-lj.si\n",
    "ana@student.uni-lj.si\n",
    "Hej\n",
    "\n",
    "Na faksu si pozabil kapo.\"\"\".strip()\n",
    "\n",
    "# In ga šifrira z AES-CTR z naključnim IV\n",
    "iv, ct = enc_aes_ctr(ana_bor_psk, email.encode(\"utf8\"))\n",
    "\n",
    "# Nato ga pošlje (to simuliramo) na streznik FMTP\n",
    "print(\"Ana pošilja šifrirano sporočilo na strežnik\")\n",
    "print(\"Tajnopis (HEX):\", ct.hex())\n",
    "print(\"IV (HEX):\", iv.hex())"
   ]
  },
  {
   "cell_type": "markdown",
   "metadata": {},
   "source": [
    "Sedaj je na potezi napadalec Nandi.\n",
    "\n",
    "Implementirajte funckijo `change_ct(ct, new_email)`, ki na vhodu prejme tajnopis in email naslov. Spremenite tajnopis tako, da ga bo strežnik FMTP še vedno brez dešifriral, a kot prejemnik ne bo naveden Bor, temveč email naslov, ki je podan v argumentu `new_email`. Predpostavite lahko, da bo `new_email` vedno krajši ali enak od naslova `bor@student.uni-lj.si`."
   ]
  },
  {
   "cell_type": "code",
   "execution_count": 19,
   "metadata": {
    "tags": []
   },
   "outputs": [],
   "source": [
    "def change_ct(ct, new_email):\n",
    "    cur = \"bor@student.uni-lj.si\"\n",
    "    new_email = new_email.ljust(len(cur))\n",
    "    \n",
    "    l = bytearray(ct)\n",
    "    \n",
    "    for i, (c, n) in enumerate(zip(cur, new_email)):\n",
    "        l[i] = l[i] ^ ord(c) ^ ord(n)\n",
    "        \n",
    "    return l"
   ]
  },
  {
   "cell_type": "markdown",
   "metadata": {},
   "source": [
    "S poganjanjem spodnje celice lahko preverite, ali vaša funkcija deluje pravilno. "
   ]
  },
  {
   "cell_type": "code",
   "execution_count": 20,
   "metadata": {
    "tags": []
   },
   "outputs": [
    {
     "name": "stdout",
     "output_type": "stream",
     "text": [
      "Streznik FMTP prejel sporocilo: 598ec24665122bbd6d4170492475ccf24986cc55844b4190126ac520d5256f15586148e2ae071e0c4835a1bed5dd666ef4c0569b1e18a19b246c7d99f47d011d5a9b56d92bb29d5000f4\n",
      "Desifrirano sporocilo:\n",
      "nandi@obvlada.si     \n",
      "ana@student.uni-lj.si\n",
      "Hej\n",
      "\n",
      "Na faksu si pozabil kapo.\n"
     ]
    }
   ],
   "source": [
    "def fmtp_receive(key, ct, iv):\n",
    "    print(\"Streznik FMTP prejel sporocilo:\", ct.hex())\n",
    "    pt = dec_aes_ctr(key, ct, iv)\n",
    "    print(\"Desifrirano sporocilo:\")\n",
    "    print(pt.decode(\"utf8\"))\n",
    "\n",
    "fmtp_receive(ana_bor_psk, change_ct(ct, \"nandi@obvlada.si\"), iv)"
   ]
  },
  {
   "cell_type": "markdown",
   "metadata": {
    "tags": []
   },
   "source": [
    "## Naloga 4: Šifriranje s AES-CBC\n",
    "\n",
    "Sedaj bomo ponovili zgodbo iz naloge 1, le da bomo tokrat uporabili AES v načinu veriženja tajnopisnih blokov z naključnim IV. \n",
    "\n",
    "Gre za način, ki je slabši od CTR in se opušča, a ga kot varnostni inženir moramo poznati.\n",
    "\n",
    "Implementirajte funkcijo enc_aes_cbc(k, pt, iv=None) skladno z navodili, podanimi v komentarju.\n",
    "\n",
    "Pozor: Način CBC zahteva, da čistopis pred šifriranjem podložite (angl. padding). Po dešifriranju pa je podlogo potrebno odstraniti. V knjižnici `cryptography` morate to storiti sami, a pri tem lahko uporabite modul [symmetric padding.](https://cryptography.io/en/latest/hazmat/primitives/padding/)\n",
    "\n",
    "Privzeto podlagamo standardom PKCS#7. Sledi primer."
   ]
  },
  {
   "cell_type": "code",
   "execution_count": 35,
   "metadata": {
    "tags": []
   },
   "outputs": [
    {
     "name": "stdout",
     "output_type": "stream",
     "text": [
      "Po klicu update: 16: b'Tole bosta dva b'\n",
      "Po klicu finalize: 32: b'Tole bosta dva bloka podatkov.\\x02\\x02'\n"
     ]
    }
   ],
   "source": [
    "from cryptography.hazmat.primitives import padding\n",
    "\n",
    "padder = padding.PKCS7(128).padder()\n",
    "padded_data = padder.update(b\"Tole bosta dva bloka podatkov.\")\n",
    "print(f\"Po klicu update: {len(padded_data)}: {padded_data}\")\n",
    "\n",
    "padded_data += padder.finalize()\n",
    "print(f\"Po klicu finalize: {len(padded_data)}: {padded_data}\")"
   ]
  },
  {
   "cell_type": "markdown",
   "metadata": {
    "tags": []
   },
   "source": [
    "Če želimo podlogo odstraniti uporabimo `unpadder`."
   ]
  },
  {
   "cell_type": "code",
   "execution_count": 36,
   "metadata": {
    "tags": []
   },
   "outputs": [
    {
     "name": "stdout",
     "output_type": "stream",
     "text": [
      "Po klicu update: 16: b'Tole bosta dva b'\n",
      "Po klicu finalize: 30: b'Tole bosta dva bloka podatkov.'\n"
     ]
    }
   ],
   "source": [
    "unpadder = padding.PKCS7(128).unpadder()\n",
    "unpadded_data = unpadder.update(padded_data)\n",
    "print(f\"Po klicu update: {len(unpadded_data)}: {unpadded_data}\")\n",
    "\n",
    "unpadded_data += unpadder.finalize()\n",
    "print(f\"Po klicu finalize: {len(unpadded_data)}: {unpadded_data}\")"
   ]
  },
  {
   "cell_type": "markdown",
   "metadata": {},
   "source": [
    "Morebitne dodatne informacije poiščite v dokumentaciji."
   ]
  },
  {
   "cell_type": "code",
   "execution_count": 38,
   "metadata": {
    "tags": []
   },
   "outputs": [],
   "source": [
    "def enc_aes_cbc(k, pt, iv):\n",
    "    \"\"\"Šifrira čistopis s ključem.\n",
    "    \n",
    "    Če IV ni podan, ustvari naključnega.\n",
    "    Kot rezultat vrne par (IV, tajnopis).\"\"\"\n",
    "    \n",
    "    padder = padding.PKCS7(128).padder()\n",
    "    pt = padder.update(pt) + padder.finalize()\n",
    "    \n",
    "    encryptor = Cipher(algorithms.AES(k), modes.CBC(iv)).encryptor()\n",
    "    ct = encryptor.update(pt) + encryptor.finalize()\n",
    "\n",
    "    return iv, ct"
   ]
  },
  {
   "cell_type": "code",
   "execution_count": 39,
   "metadata": {
    "tags": []
   },
   "outputs": [],
   "source": [
    "def test_enc_aes_cbc():   \n",
    "    key = bytes.fromhex(\"6141fb1142cd0611dd95798fd95352bb\")\n",
    "    iv = bytes.fromhex(\"dedca9742fa8613c6d42eabdea6edba7\")\n",
    "    \n",
    "    msg = \"Hello World!\".encode(\"utf8\")\n",
    "    iv, ct = enc_aes_cbc(key, msg, iv)\n",
    "    \n",
    "    assert iv == bytes.fromhex(\"dedca9742fa8613c6d42eabdea6edba7\")\n",
    "    assert ct == bytes.fromhex(\"1fc519b6a47b3c562d905965e6e2f465\")\n",
    "\n",
    "test_enc_aes_cbc()"
   ]
  },
  {
   "cell_type": "code",
   "execution_count": 41,
   "metadata": {
    "tags": []
   },
   "outputs": [],
   "source": [
    "def dec_aes_cbc(k, ct, iv):\n",
    "    \"\"\"Dešifrira tajnopis s ključem in vrednostjo IV\"\"\"\n",
    "\n",
    "    dec = Cipher(algorithms.AES(k), modes.CBC(iv)).decryptor()\n",
    "    \n",
    "    pt = dec.update(ct) + dec.finalize()\n",
    "    \n",
    "    padder = padding.PKCS7(128).unpadder()\n",
    "    pt = padder.update(pt) + padder.finalize()\n",
    "    \n",
    "    return pt"
   ]
  },
  {
   "cell_type": "code",
   "execution_count": 42,
   "metadata": {
    "tags": []
   },
   "outputs": [],
   "source": [
    "def test_dec_aes_cbc():  \n",
    "    key = bytes.fromhex(\"6141fb1142cd0611dd95798fd95352bb\")\n",
    "    iv = bytes.fromhex(\"dedca9742fa8613c6d42eabdea6edba7\")\n",
    "    ct = bytes.fromhex(\"1fc519b6a47b3c562d905965e6e2f465\")\n",
    "    \n",
    "    pt = dec_aes_cbc(key, ct, iv)\n",
    "\n",
    "    assert pt == b\"Hello World!\"\n",
    "\n",
    "test_dec_aes_cbc()"
   ]
  }
 ],
 "metadata": {
  "kernelspec": {
   "display_name": "Python 3 (ipykernel)",
   "language": "python",
   "name": "python3"
  },
  "language_info": {
   "codemirror_mode": {
    "name": "ipython",
    "version": 3
   },
   "file_extension": ".py",
   "mimetype": "text/x-python",
   "name": "python",
   "nbconvert_exporter": "python",
   "pygments_lexer": "ipython3",
   "version": "3.10.12"
  }
 },
 "nbformat": 4,
 "nbformat_minor": 4
}
